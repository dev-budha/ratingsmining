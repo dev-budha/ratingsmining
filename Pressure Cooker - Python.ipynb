{
 "cells": [
  {
   "cell_type": "code",
   "execution_count": 1,
   "metadata": {},
   "outputs": [],
   "source": [
    "import pandas as pd\n",
    "import numpy as np\n",
    "import matplotlib.pyplot as plt\n",
    "from nltk import *\n",
    "from string import punctuation\n",
    "from collections import Counter"
   ]
  },
  {
   "cell_type": "code",
   "execution_count": 2,
   "metadata": {},
   "outputs": [
    {
     "name": "stdout",
     "output_type": "stream",
     "text": [
      "[nltk_data] Downloading package punkt to\n",
      "[nltk_data]     C:\\Users\\tfost\\AppData\\Roaming\\nltk_data...\n",
      "[nltk_data]   Package punkt is already up-to-date!\n"
     ]
    }
   ],
   "source": [
    "import nltk\n",
    "nltk.download('punkt')\n",
    "from nltk import word_tokenize,sent_tokenize"
   ]
  },
  {
   "cell_type": "code",
   "execution_count": 3,
   "metadata": {},
   "outputs": [],
   "source": [
    "import seaborn as sns\n",
    "from nltk.corpus import stopwords"
   ]
  },
  {
   "cell_type": "code",
   "execution_count": 4,
   "metadata": {},
   "outputs": [],
   "source": [
    "reviews_df = pd.read_csv('pressure.csv', index_col=0)"
   ]
  },
  {
   "cell_type": "code",
   "execution_count": 5,
   "metadata": {},
   "outputs": [
    {
     "data": {
      "text/plain": [
       "(2250, 6)"
      ]
     },
     "execution_count": 5,
     "metadata": {},
     "output_type": "execute_result"
    }
   ],
   "source": [
    "reviews_df.shape"
   ]
  },
  {
   "cell_type": "code",
   "execution_count": 6,
   "metadata": {},
   "outputs": [
    {
     "name": "stdout",
     "output_type": "stream",
     "text": [
      "<class 'pandas.core.frame.DataFrame'>\n",
      "Int64Index: 2250 entries, 0 to 2249\n",
      "Data columns (total 6 columns):\n",
      "author     2250 non-null object\n",
      "body       2250 non-null object\n",
      "date       2250 non-null object\n",
      "helpful    2250 non-null object\n",
      "rating     2250 non-null object\n",
      "title      2250 non-null object\n",
      "dtypes: object(6)\n",
      "memory usage: 123.0+ KB\n"
     ]
    }
   ],
   "source": [
    "reviews_df.info()"
   ]
  },
  {
   "cell_type": "code",
   "execution_count": 7,
   "metadata": {},
   "outputs": [
    {
     "data": {
      "text/html": [
       "<div>\n",
       "<style scoped>\n",
       "    .dataframe tbody tr th:only-of-type {\n",
       "        vertical-align: middle;\n",
       "    }\n",
       "\n",
       "    .dataframe tbody tr th {\n",
       "        vertical-align: top;\n",
       "    }\n",
       "\n",
       "    .dataframe thead th {\n",
       "        text-align: right;\n",
       "    }\n",
       "</style>\n",
       "<table border=\"1\" class=\"dataframe\">\n",
       "  <thead>\n",
       "    <tr style=\"text-align: right;\">\n",
       "      <th></th>\n",
       "      <th>author</th>\n",
       "      <th>body</th>\n",
       "      <th>date</th>\n",
       "      <th>helpful</th>\n",
       "      <th>rating</th>\n",
       "      <th>title</th>\n",
       "    </tr>\n",
       "  </thead>\n",
       "  <tbody>\n",
       "    <tr>\n",
       "      <th>2245</th>\n",
       "      <td>['Amazonaholic']</td>\n",
       "      <td>['It would be nice if people would review this...</td>\n",
       "      <td>['on November 8, 2014']</td>\n",
       "      <td>['\\n      15 people found this helpful.\\n    ']</td>\n",
       "      <td>['5.0 out of 5 stars']</td>\n",
       "      <td>['It would be nice if people would review this...</td>\n",
       "    </tr>\n",
       "    <tr>\n",
       "      <th>2246</th>\n",
       "      <td>['sab']</td>\n",
       "      <td>['why is the warning sign of this causes cance...</td>\n",
       "      <td>['on August 18, 2015']</td>\n",
       "      <td>['\\n      8 people found this helpful.\\n    ']</td>\n",
       "      <td>['1.0 out of 5 stars']</td>\n",
       "      <td>['why is the warning sign of this causes cance...</td>\n",
       "    </tr>\n",
       "    <tr>\n",
       "      <th>2247</th>\n",
       "      <td>['Darlene Lindsey M']</td>\n",
       "      <td>[\"I went to 3 stores that the manufacturer of ...</td>\n",
       "      <td>['on December 3, 2014']</td>\n",
       "      <td>['\\n      6 people found this helpful.\\n    ']</td>\n",
       "      <td>['1.0 out of 5 stars']</td>\n",
       "      <td>[\"DON'T BUY THIS POOR LOOKING QUALITY PRODUCT!\"]</td>\n",
       "    </tr>\n",
       "    <tr>\n",
       "      <th>2248</th>\n",
       "      <td>['Wayne Brault']</td>\n",
       "      <td>['Ordered the wrong pressure cooker for my wif...</td>\n",
       "      <td>['on November 19, 2016']</td>\n",
       "      <td>['\\n      2 people found this helpful.\\n    ']</td>\n",
       "      <td>['1.0 out of 5 stars']</td>\n",
       "      <td>['Ordered the wrong pressure cooker for my wif...</td>\n",
       "    </tr>\n",
       "    <tr>\n",
       "      <th>2249</th>\n",
       "      <td>['Amazon Customer']</td>\n",
       "      <td>['I purchased it for a gift']</td>\n",
       "      <td>['on February 3, 2017']</td>\n",
       "      <td>[]</td>\n",
       "      <td>['1.0 out of 5 stars']</td>\n",
       "      <td>['One Star']</td>\n",
       "    </tr>\n",
       "  </tbody>\n",
       "</table>\n",
       "</div>"
      ],
      "text/plain": [
       "                     author  \\\n",
       "2245       ['Amazonaholic']   \n",
       "2246                ['sab']   \n",
       "2247  ['Darlene Lindsey M']   \n",
       "2248       ['Wayne Brault']   \n",
       "2249    ['Amazon Customer']   \n",
       "\n",
       "                                                   body  \\\n",
       "2245  ['It would be nice if people would review this...   \n",
       "2246  ['why is the warning sign of this causes cance...   \n",
       "2247  [\"I went to 3 stores that the manufacturer of ...   \n",
       "2248  ['Ordered the wrong pressure cooker for my wif...   \n",
       "2249                      ['I purchased it for a gift']   \n",
       "\n",
       "                          date  \\\n",
       "2245   ['on November 8, 2014']   \n",
       "2246    ['on August 18, 2015']   \n",
       "2247   ['on December 3, 2014']   \n",
       "2248  ['on November 19, 2016']   \n",
       "2249   ['on February 3, 2017']   \n",
       "\n",
       "                                              helpful                  rating  \\\n",
       "2245  ['\\n      15 people found this helpful.\\n    ']  ['5.0 out of 5 stars']   \n",
       "2246   ['\\n      8 people found this helpful.\\n    ']  ['1.0 out of 5 stars']   \n",
       "2247   ['\\n      6 people found this helpful.\\n    ']  ['1.0 out of 5 stars']   \n",
       "2248   ['\\n      2 people found this helpful.\\n    ']  ['1.0 out of 5 stars']   \n",
       "2249                                               []  ['1.0 out of 5 stars']   \n",
       "\n",
       "                                                  title  \n",
       "2245  ['It would be nice if people would review this...  \n",
       "2246  ['why is the warning sign of this causes cance...  \n",
       "2247   [\"DON'T BUY THIS POOR LOOKING QUALITY PRODUCT!\"]  \n",
       "2248  ['Ordered the wrong pressure cooker for my wif...  \n",
       "2249                                       ['One Star']  "
      ]
     },
     "execution_count": 7,
     "metadata": {},
     "output_type": "execute_result"
    }
   ],
   "source": [
    "reviews_df.tail()"
   ]
  },
  {
   "cell_type": "code",
   "execution_count": 8,
   "metadata": {},
   "outputs": [],
   "source": [
    "reviews_df.drop(['author', 'date','helpful', 'title'], axis=1, inplace=True)"
   ]
  },
  {
   "cell_type": "code",
   "execution_count": 48,
   "metadata": {},
   "outputs": [],
   "source": [
    "reviews_df['Body_Length'] = reviews_df['body'].apply(len)"
   ]
  },
  {
   "cell_type": "code",
   "execution_count": 10,
   "metadata": {},
   "outputs": [
    {
     "data": {
      "text/html": [
       "<div>\n",
       "<style scoped>\n",
       "    .dataframe tbody tr th:only-of-type {\n",
       "        vertical-align: middle;\n",
       "    }\n",
       "\n",
       "    .dataframe tbody tr th {\n",
       "        vertical-align: top;\n",
       "    }\n",
       "\n",
       "    .dataframe thead th {\n",
       "        text-align: right;\n",
       "    }\n",
       "</style>\n",
       "<table border=\"1\" class=\"dataframe\">\n",
       "  <thead>\n",
       "    <tr style=\"text-align: right;\">\n",
       "      <th></th>\n",
       "      <th>body</th>\n",
       "      <th>rating</th>\n",
       "      <th>Body_Length</th>\n",
       "    </tr>\n",
       "  </thead>\n",
       "  <tbody>\n",
       "    <tr>\n",
       "      <th>0</th>\n",
       "      <td>['Before I begin my review, I want to state th...</td>\n",
       "      <td>['5.0 out of 5 stars']</td>\n",
       "      <td>3600</td>\n",
       "    </tr>\n",
       "    <tr>\n",
       "      <th>1</th>\n",
       "      <td>[\"good news/ bad news...I bought this about si...</td>\n",
       "      <td>['2.0 out of 5 stars']</td>\n",
       "      <td>1529</td>\n",
       "    </tr>\n",
       "    <tr>\n",
       "      <th>2</th>\n",
       "      <td>[\"So I'm just a guy who has never used a press...</td>\n",
       "      <td>['5.0 out of 5 stars']</td>\n",
       "      <td>1757</td>\n",
       "    </tr>\n",
       "    <tr>\n",
       "      <th>3</th>\n",
       "      <td>['Stopped working after 2 months,  it worked o...</td>\n",
       "      <td>['1.0 out of 5 stars']</td>\n",
       "      <td>199</td>\n",
       "    </tr>\n",
       "    <tr>\n",
       "      <th>4</th>\n",
       "      <td>['Quit working after about 4 months,  it costs...</td>\n",
       "      <td>['1.0 out of 5 stars']</td>\n",
       "      <td>192</td>\n",
       "    </tr>\n",
       "  </tbody>\n",
       "</table>\n",
       "</div>"
      ],
      "text/plain": [
       "                                                body                  rating  \\\n",
       "0  ['Before I begin my review, I want to state th...  ['5.0 out of 5 stars']   \n",
       "1  [\"good news/ bad news...I bought this about si...  ['2.0 out of 5 stars']   \n",
       "2  [\"So I'm just a guy who has never used a press...  ['5.0 out of 5 stars']   \n",
       "3  ['Stopped working after 2 months,  it worked o...  ['1.0 out of 5 stars']   \n",
       "4  ['Quit working after about 4 months,  it costs...  ['1.0 out of 5 stars']   \n",
       "\n",
       "   Body_Length  \n",
       "0         3600  \n",
       "1         1529  \n",
       "2         1757  \n",
       "3          199  \n",
       "4          192  "
      ]
     },
     "execution_count": 10,
     "metadata": {},
     "output_type": "execute_result"
    }
   ],
   "source": [
    "reviews_df.head()"
   ]
  },
  {
   "cell_type": "code",
   "execution_count": 11,
   "metadata": {},
   "outputs": [],
   "source": [
    "#Pulls out the single digit value of the star rating\n",
    "reviews_df['rating'] = reviews_df['rating'].str[2:3]"
   ]
  },
  {
   "cell_type": "code",
   "execution_count": 12,
   "metadata": {},
   "outputs": [],
   "source": [
    "# Converts the rating to numeric\n",
    "reviews_df['rating'] = pd.to_numeric(reviews_df['rating'], errors='coerce').fillna(0).astype(np.int64)"
   ]
  },
  {
   "cell_type": "code",
   "execution_count": 13,
   "metadata": {},
   "outputs": [
    {
     "data": {
      "text/plain": [
       "Text(0.5,0,'Stars')"
      ]
     },
     "execution_count": 13,
     "metadata": {},
     "output_type": "execute_result"
    },
    {
     "data": {
      "image/png": "[encoded data removed]",
      "text/plain": [
       "<matplotlib.figure.Figure at 0x1c4b4540ba8>"
      ]
     },
     "metadata": {},
     "output_type": "display_data"
    }
   ],
   "source": [
    "reviews_df['rating'].plot(kind='hist', bins=5)\n",
    "plt.xlabel(\"Stars\")"
   ]
  },
  {
   "cell_type": "code",
   "execution_count": 14,
   "metadata": {},
   "outputs": [],
   "source": [
    "low_ratings = reviews_df['rating']<4\n",
    "high_ratings = reviews_df['rating']> 3"
   ]
  },
  {
   "cell_type": "code",
   "execution_count": 15,
   "metadata": {},
   "outputs": [
    {
     "data": {
      "text/plain": [
       "5    1251\n",
       "1     446\n",
       "4     245\n",
       "3     156\n",
       "2     152\n",
       "Name: rating, dtype: int64"
      ]
     },
     "execution_count": 15,
     "metadata": {},
     "output_type": "execute_result"
    }
   ],
   "source": [
    "reviews_df['rating'].value_counts()"
   ]
  },
  {
   "cell_type": "code",
   "execution_count": 16,
   "metadata": {},
   "outputs": [],
   "source": [
    "# https://medium.com/tensorist/classifying-yelp-reviews-using-nltk-and-scikit-learn-c58e71e962d9"
   ]
  },
  {
   "cell_type": "code",
   "execution_count": 17,
   "metadata": {},
   "outputs": [
    {
     "data": {
      "text/plain": [
       "<seaborn.axisgrid.FacetGrid at 0x1c4b46b2390>"
      ]
     },
     "execution_count": 17,
     "metadata": {},
     "output_type": "execute_result"
    },
    {
     "data": {
      "image/png": "[encoded data removed]",
      "text/plain": [
       "<matplotlib.figure.Figure at 0x1c4b46b2860>"
      ]
     },
     "metadata": {},
     "output_type": "display_data"
    }
   ],
   "source": [
    "starbody = sns.FacetGrid(data=reviews_df, col='rating')\n",
    "starbody.map(plt.hist, 'Body_Length', bins=50)"
   ]
  },
  {
   "cell_type": "code",
   "execution_count": 18,
   "metadata": {},
   "outputs": [
    {
     "data": {
      "text/plain": [
       "<matplotlib.axes._subplots.AxesSubplot at 0x1c4b4cbf6a0>"
      ]
     },
     "execution_count": 18,
     "metadata": {},
     "output_type": "execute_result"
    },
    {
     "data": {
      "image/png": "[encoded data removed]",
      "text/plain": [
       "<matplotlib.figure.Figure at 0x1c4b4c4eb00>"
      ]
     },
     "metadata": {},
     "output_type": "display_data"
    }
   ],
   "source": [
    "sns.boxplot(x='rating', y='Body_Length', data=reviews_df)"
   ]
  },
  {
   "cell_type": "code",
   "execution_count": 50,
   "metadata": {},
   "outputs": [],
   "source": [
    "# reviews_df['Body_Length'] = pd.to_numeric(reviews_df['Body_Length'], errors='coerce').fillna(0).astype(np.int64)"
   ]
  },
  {
   "cell_type": "code",
   "execution_count": 53,
   "metadata": {},
   "outputs": [
    {
     "ename": "TypeError",
     "evalue": "string indices must be integers",
     "output_type": "error",
     "traceback": [
      "\u001b[1;31m---------------------------------------------------------------------------\u001b[0m",
      "\u001b[1;31mTypeError\u001b[0m                                 Traceback (most recent call last)",
      "\u001b[1;32m<ipython-input-53-365a02be58c1>\u001b[0m in \u001b[0;36m<module>\u001b[1;34m()\u001b[0m\n\u001b[0;32m      1\u001b[0m \u001b[1;32mfor\u001b[0m \u001b[0mi\u001b[0m \u001b[1;32min\u001b[0m \u001b[0mreviews_df\u001b[0m\u001b[1;33m:\u001b[0m\u001b[1;33m\u001b[0m\u001b[0m\n\u001b[1;32m----> 2\u001b[1;33m     \u001b[1;32mfor\u001b[0m \u001b[0m_\u001b[0m\u001b[1;33m,\u001b[0m \u001b[0mv\u001b[0m \u001b[1;32min\u001b[0m \u001b[0mi\u001b[0m\u001b[1;33m[\u001b[0m\u001b[1;34m'Body_Length'\u001b[0m\u001b[1;33m]\u001b[0m\u001b[1;33m.\u001b[0m\u001b[0miteritems\u001b[0m\u001b[1;33m(\u001b[0m\u001b[1;33m)\u001b[0m\u001b[1;33m:\u001b[0m\u001b[1;33m\u001b[0m\u001b[0m\n\u001b[0m\u001b[0;32m      3\u001b[0m         \u001b[1;32mif\u001b[0m \u001b[0mv\u001b[0m \u001b[1;33m>\u001b[0m \u001b[1;36m6000\u001b[0m\u001b[1;33m:\u001b[0m\u001b[1;33m\u001b[0m\u001b[0m\n\u001b[0;32m      4\u001b[0m             \u001b[0mprint\u001b[0m\u001b[1;33m(\u001b[0m\u001b[0mv\u001b[0m\u001b[1;33m)\u001b[0m\u001b[1;33m\u001b[0m\u001b[0m\n",
      "\u001b[1;31mTypeError\u001b[0m: string indices must be integers"
     ]
    }
   ],
   "source": [
    "# I couldn't get this to work\n",
    "# for i in reviews_df:\n",
    "#    for _, v in i['Body_Length'].iteritems():\n",
    "#        if v > 6000:\n",
    "#            print(v)\n"
   ]
  },
  {
   "cell_type": "code",
   "execution_count": 43,
   "metadata": {},
   "outputs": [
    {
     "data": {
      "text/plain": [
       "'body'"
      ]
     },
     "execution_count": 43,
     "metadata": {},
     "output_type": "execute_result"
    }
   ],
   "source": [
    "long"
   ]
  },
  {
   "cell_type": "code",
   "execution_count": null,
   "metadata": {},
   "outputs": [],
   "source": []
  }
 ],
 "metadata": {
  "kernelspec": {
   "display_name": "Python 3",
   "language": "python",
   "name": "python3"
  },
  "language_info": {
   "codemirror_mode": {
    "name": "ipython",
    "version": 3
   },
   "file_extension": ".py",
   "mimetype": "text/x-python",
   "name": "python",
   "nbconvert_exporter": "python",
   "pygments_lexer": "ipython3",
   "version": "3.6.3"
  }
 },
 "nbformat": 4,
 "nbformat_minor": 2
}
