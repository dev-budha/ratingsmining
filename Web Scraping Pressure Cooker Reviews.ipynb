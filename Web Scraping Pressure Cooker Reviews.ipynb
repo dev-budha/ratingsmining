{
 "cells": [
  {
   "cell_type": "markdown",
   "metadata": {},
   "source": [
    "# **Web Scraping, Text Mining and Sentiment Analysis** \n",
    "# **Using Amazon Reviews**\n",
    "\n",
    "\n",
    "## Tom Foster (_tfoster306@gmail.com_)\n",
    "***\n",
    "                 "
   ]
  },
  {
   "cell_type": "markdown",
   "metadata": {},
   "source": [
    "# <font color=green>What is Text Mining?<font>\n",
    "## <font color=green>    -  The analysis of data contained in natural language text<font>\n",
    "    \n",
    "### <font color=green>    -  Natural Language Processing (NLP)<font>\n",
    "### <font color=green>    -  Sentiment Analysis<font>\n",
    "### <font color=green>    -  Bag or Words, Clustering<font>\n",
    "    \n",
    "***"
   ]
  },
  {
   "cell_type": "markdown",
   "metadata": {},
   "source": [
    "# <font color=blue>What is Sentiment Analysis?<font>\n",
    "## <font color=blue>    -  Opinions (judgement, subjective evaluation)<font>\n",
    "## <font color=blue>    -  Attitudes (settled way of thinking, viewpoint)<font>\n",
    "## <font color=blue>    -  Emotions (affective states)<font>\n",
    "    \n",
    "***"
   ]
  },
  {
   "cell_type": "markdown",
   "metadata": {},
   "source": [
    "\n",
    "[Power Pressure Cooker](https://www.amazon.com/Power-Pressure-Cooker-XL-Quart/dp/B00MZZXO4W/ref=cm_cr_arp_d_product_top?ie=UTF8)\n",
    "    "
   ]
  },
  {
   "cell_type": "markdown",
   "metadata": {},
   "source": [
    "This code was adapted from code presented here:\n",
    "http://www.knoyd.com/blog/amazon-review-scraper\n"
   ]
  },
  {
   "cell_type": "code",
   "execution_count": null,
   "metadata": {},
   "outputs": [],
   "source": [
    "import requests\n",
    "import lxml\n",
    "import pandas as pd"
   ]
  },
  {
   "cell_type": "code",
   "execution_count": null,
   "metadata": {},
   "outputs": [],
   "source": [
    "from lxml import html\n"
   ]
  },
  {
   "cell_type": "code",
   "execution_count": null,
   "metadata": {},
   "outputs": [],
   "source": [
    "reviews_df = pd.DataFrame([],[])"
   ]
  },
  {
   "cell_type": "code",
   "execution_count": null,
   "metadata": {},
   "outputs": [],
   "source": [
    "# Loop through 226 pages as of 4/11/18\n",
    "for pagenum in range(1,226):\n",
    "    amazon_url = 'https://www.amazon.com/product-reviews/B00MZZXO4W/ref=cm_cr_arp_d_paging_btm_226?ie=UTF8&showViewpoints=1&pageNumber=' + str(pagenum)\n",
    "    # amazon_url = 'https://www.amazon.com/product-reviews/B01DFKC2SO?pageNumber=1&sortBy=recent'\n",
    "    user_agent = 'Mozilla/5.0 (Windows NT 10.0; Win64; x64) AppleWebKit/537.36 (KHTML, like Gecko) Chrome/64.0.3282.186 Safari/537.36'\n",
    "    headers = {'User-Agent': user_agent}\n",
    "    page = requests.get(amazon_url, headers = headers)\n",
    "    parser = html.fromstring(page.content)\n",
    "    xpath_reviews = '//div[@data-hook=\"review\"]'\n",
    "    reviews = parser.xpath(xpath_reviews)\n",
    "    xpath_rating  = './/i[@data-hook=\"review-star-rating\"]//text()' \n",
    "    xpath_title   = './/a[@data-hook=\"review-title\"]//text()'\n",
    "    xpath_author  = './/a[@data-hook=\"review-author\"]//text()'\n",
    "    xpath_date    = './/span[@data-hook=\"review-date\"]//text()'\n",
    "    xpath_body    = './/span[@data-hook=\"review-body\"]//text()'\n",
    "    xpath_helpful = './/span[@data-hook=\"helpful-vote-statement\"]//text()'\n",
    "    for review in reviews:\n",
    "        rating  = review.xpath(xpath_rating)\n",
    "        title   = review.xpath(xpath_title)\n",
    "        author  = review.xpath(xpath_author)\n",
    "        date    = review.xpath(xpath_date)\n",
    "        body    = review.xpath(xpath_body)\n",
    "        helpful = review.xpath(xpath_helpful)\n",
    "\n",
    "        review_dict = {'rating': rating,\n",
    "                       'title': title,\n",
    "                       'author': author,             \n",
    "                           'date': date,\n",
    "                       'body': body,\n",
    "                       'helpful': helpful}\n",
    "        reviews_df = reviews_df.append(review_dict, ignore_index=True)"
   ]
  },
  {
   "cell_type": "code",
   "execution_count": null,
   "metadata": {},
   "outputs": [],
   "source": [
    "reviews_df.tail()"
   ]
  },
  {
   "cell_type": "code",
   "execution_count": null,
   "metadata": {},
   "outputs": [],
   "source": [
    "reviews_df.to_csv('pressure.csv')"
   ]
  },
  {
   "cell_type": "code",
   "execution_count": null,
   "metadata": {},
   "outputs": [],
   "source": []
  }
 ],
 "metadata": {
  "kernelspec": {
   "display_name": "Python 3",
   "language": "python",
   "name": "python3"
  },
  "language_info": {
   "codemirror_mode": {
    "name": "ipython",
    "version": 3
   },
   "file_extension": ".py",
   "mimetype": "text/x-python",
   "name": "python",
   "nbconvert_exporter": "python",
   "pygments_lexer": "ipython3",
   "version": "3.6.3"
  }
 },
 "nbformat": 4,
 "nbformat_minor": 2
}
